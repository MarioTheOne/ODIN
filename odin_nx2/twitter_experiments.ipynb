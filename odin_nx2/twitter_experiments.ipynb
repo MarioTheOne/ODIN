{
 "cells": [
  {
   "cell_type": "markdown",
   "metadata": {},
   "source": [
    "##Analyzing Tweets about US 2018 Presidential Elections"
   ]
  },
  {
   "cell_type": "code",
   "execution_count": 1,
   "metadata": {},
   "outputs": [],
   "source": [
    "# This code is needed for using the project modules in the notebook\n",
    "project_path = 'D:/Personal_Projects/Public/ODIN'  # This path should point to the current project folder\n",
    "experiments_folder = project_path + '/Experiments/us_elections_2018_tweets/'\n",
    "\n",
    "import os\n",
    "import sys\n",
    "sys.path.insert(0, os.path.abspath(project_path))\n"
   ]
  },
  {
   "cell_type": "code",
   "execution_count": 2,
   "metadata": {
    "collapsed": true
   },
   "outputs": [],
   "source": [
    "from odin_nx2 import ODIN_network_manager as NetManager\n",
    "from odin_nx2 import ODIN_graph_clustering as Gclust\n",
    "from odin_nx2 import ODIN_anomaly_detection as AnDet\n"
   ]
  },
  {
   "cell_type": "markdown",
   "metadata": {},
   "source": [
    "###Reading the network from gpickle file"
   ]
  },
  {
   "cell_type": "code",
   "execution_count": 7,
   "metadata": {},
   "outputs": [],
   "source": [
    "data_folder = project_path + '/Networks/us_elections_2018_retweets/'\n",
    "\n",
    "us_elections = NetManager.read_network_from_gpickle_file(data_folder + 'us_elections_2018_retweets.gpickle')\n"
   ]
  },
  {
   "cell_type": "markdown",
   "metadata": {},
   "source": [
    "###Detecting communities in the network"
   ]
  },
  {
   "cell_type": "code",
   "execution_count": 8,
   "metadata": {},
   "outputs": [],
   "source": [
    "us_elections_und = us_elections.to_undirected()\n",
    "\n",
    "communities, partition = Gclust.louvain_community_detection(us_elections_und)\n",
    "\n",
    "NetManager.write_dictionary_as_pickle_file(communities, experiments_folder + 'us_elections_communities.pickle')\n",
    "NetManager.write_dictionary_as_pickle_file(partition, experiments_folder + 'us_elections_partition.pickle')\n"
   ]
  },
  {
   "cell_type": "markdown",
   "metadata": {},
   "source": [
    "###Detecting Outliers"
   ]
  },
  {
   "cell_type": "markdown",
   "metadata": {},
   "source": [
    "####Out edges analysis\n",
    "These are the users that retweet the tweets of people from many different communities. The results indicate\n",
    "those members of each community that are more open to information from outside its own community"
   ]
  },
  {
   "cell_type": "code",
   "execution_count": null,
   "metadata": {},
   "outputs": [],
   "source": [
    "us_elections = \\\n",
    "    NetManager.read_network_from_gpickle_file(data_folder + 'us_elections_2018_retweets.gpickle')\n",
    "us_elections_partition = \\\n",
    "    NetManager.read_dictionary_from_pickle_file(experiments_folder + 'us_elections_partition.pickle')\n",
    "us_elections_communities = \\\n",
    "    NetManager.read_dictionary_from_pickle_file(experiments_folder + 'us_elections_communities.pickle')\n",
    "\n",
    "\n",
    "out_inter_score = \\\n",
    "    AnDet.inter_score_ds(us_elections, us_elections_communities, us_elections_partition, in_edges_analysis=False)\n",
    "\n",
    "NetManager.write_dictionary_as_pickle_file(out_inter_score, experiments_folder + 'out_inter_score.pickle')\n"
   ]
  },
  {
   "cell_type": "markdown",
   "metadata": {},
   "source": [
    "####In-edges analysis\n",
    "These are the users that are retweeted by people from many different communities. The results indicate\n",
    "those members of each community whose opinion propagate beyond the boundaries of its own community."
   ]
  },
  {
   "cell_type": "code",
   "execution_count": 12,
   "metadata": {},
   "outputs": [],
   "source": [
    "us_elections = \\\n",
    "    NetManager.read_network_from_gpickle_file(data_folder + 'us_elections_2018_retweets.gpickle')\n",
    "us_elections_partition = \\\n",
    "    NetManager.read_dictionary_from_pickle_file(experiments_folder + 'us_elections_partition.pickle')\n",
    "us_elections_communities = \\\n",
    "    NetManager.read_dictionary_from_pickle_file(experiments_folder + 'us_elections_communities.pickle')\n",
    "\n",
    "\n",
    "out_inter_score = \\\n",
    "    AnDet.inter_score_ds(us_elections, us_elections_communities, us_elections_partition, in_edges_analysis=True)\n",
    "\n",
    "NetManager.write_dictionary_as_pickle_file(out_inter_score, experiments_folder + 'in_inter_score.pickle')\n"
   ]
  },
  {
   "cell_type": "markdown",
   "metadata": {},
   "source": [
    ""
   ]
  },
  {
   "cell_type": "code",
   "execution_count": null,
   "metadata": {},
   "outputs": [],
   "source": [
    "\n"
   ]
  }
 ],
 "metadata": {
  "kernelspec": {
   "display_name": "Python 2",
   "language": "python",
   "name": "python2"
  },
  "language_info": {
   "codemirror_mode": {
    "name": "ipython",
    "version": 2
   },
   "file_extension": ".py",
   "mimetype": "text/x-python",
   "name": "python",
   "nbconvert_exporter": "python",
   "pygments_lexer": "ipython2",
   "version": "2.7.6"
  }
 },
 "nbformat": 4,
 "nbformat_minor": 0
}
